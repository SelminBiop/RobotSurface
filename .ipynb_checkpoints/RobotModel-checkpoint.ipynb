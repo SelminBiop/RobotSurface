{
 "cells": [
  {
   "cell_type": "code",
   "execution_count": 1,
   "metadata": {},
   "outputs": [
    {
     "name": "stdout",
     "output_type": "stream",
     "text": [
      "           series_id  measurement_number  orientation_X  orientation_Y  \\\n",
      "count  487680.000000       487680.000000  487680.000000  487680.000000   \n",
      "mean     1904.500000           63.500000      -0.018050       0.075062   \n",
      "std      1099.853353           36.949327       0.685696       0.708226   \n",
      "min         0.000000            0.000000      -0.989100      -0.989650   \n",
      "25%       952.000000           31.750000      -0.705120      -0.688980   \n",
      "50%      1904.500000           63.500000      -0.105960       0.237855   \n",
      "75%      2857.000000           95.250000       0.651803       0.809550   \n",
      "max      3809.000000          127.000000       0.989100       0.988980   \n",
      "\n",
      "       orientation_Z  orientation_W  angular_velocity_X  angular_velocity_Y  \\\n",
      "count  487680.000000  487680.000000       487680.000000       487680.000000   \n",
      "mean        0.012458      -0.003804            0.000178            0.008338   \n",
      "std         0.105972       0.104299            0.117764            0.088677   \n",
      "min        -0.162830      -0.156620           -2.371000           -0.927860   \n",
      "25%        -0.089466      -0.106060           -0.040752           -0.033191   \n",
      "50%         0.031949      -0.018704            0.000084            0.005412   \n",
      "75%         0.122870       0.097215            0.040527            0.048068   \n",
      "max         0.155710       0.154770            2.282200            1.079100   \n",
      "\n",
      "       angular_velocity_Z  linear_acceleration_X  linear_acceleration_Y  \\\n",
      "count       487680.000000          487680.000000          487680.000000   \n",
      "mean            -0.019184               0.129281               2.886468   \n",
      "std              0.229153               1.870600               2.140067   \n",
      "min             -1.268800             -36.067000            -121.490000   \n",
      "25%             -0.090743              -0.530833               1.957900   \n",
      "50%             -0.005335               0.124980               2.879600   \n",
      "75%              0.064604               0.792263               3.798800   \n",
      "max              1.387300              36.797000              73.008000   \n",
      "\n",
      "       linear_acceleration_Z  \n",
      "count          487680.000000  \n",
      "mean               -9.364886  \n",
      "std                 2.845341  \n",
      "min               -75.386000  \n",
      "25%               -10.193000  \n",
      "50%                -9.365300  \n",
      "75%                -8.522700  \n",
      "max                65.839000  \n"
     ]
    }
   ],
   "source": [
    "from __future__ import print_function\n",
    "\n",
    "import pandas as pd\n",
    "import numpy as np\n",
    "\n",
    "TRAIN_PATH = \"data/X_train.csv\"\n",
    "TRAIN_LABEL_PATH = \"data/y_train.csv\"\n",
    "TEST_PATH = \"data/X_test.csv\"\n",
    "\n",
    "train_data = pd.read_csv(TRAIN_PATH, sep=\",\")\n",
    "train_label = pd.read_csv(TRAIN_LABEL_PATH, sep=\",\")\n",
    "\n",
    "print(train_data.describe())\n",
    "patate"
   ]
  },
  {
   "cell_type": "code",
   "execution_count": null,
   "metadata": {},
   "outputs": [],
   "source": []
  },
  {
   "cell_type": "code",
   "execution_count": null,
   "metadata": {},
   "outputs": [],
   "source": []
  }
 ],
 "metadata": {
  "kernelspec": {
   "display_name": "Python 3",
   "language": "python",
   "name": "python3"
  },
  "language_info": {
   "codemirror_mode": {
    "name": "ipython",
    "version": 3
   },
   "file_extension": ".py",
   "mimetype": "text/x-python",
   "name": "python",
   "nbconvert_exporter": "python",
   "pygments_lexer": "ipython3",
   "version": "3.6.8"
  }
 },
 "nbformat": 4,
 "nbformat_minor": 1
}
